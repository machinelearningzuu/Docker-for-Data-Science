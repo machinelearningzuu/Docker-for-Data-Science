{
 "cells": [
  {
   "cell_type": "code",
   "execution_count": 1,
   "metadata": {},
   "outputs": [],
   "source": [
    "import os\n",
    "os.chdir(\"/Users/1zuu/Library/Mobile Documents/com~apple~CloudDocs/ML STU/Docker for Data Science/Churn Prediction\")"
   ]
  },
  {
   "cell_type": "code",
   "execution_count": 1,
   "metadata": {},
   "outputs": [
    {
     "data": {
      "text/plain": [
       "True"
      ]
     },
     "execution_count": 1,
     "metadata": {},
     "output_type": "execute_result"
    }
   ],
   "source": [
    "import os\n",
    "os.path.exists('/Users/1zuu/Library/Mobile Documents/com~apple~CloudDocs/ML STU/Docker for Data Science/Churn Prediction/app.py')"
   ]
  },
  {
   "cell_type": "code",
   "execution_count": 2,
   "metadata": {},
   "outputs": [],
   "source": [
    "from src.inference_pipeline import InferencePipeline"
   ]
  },
  {
   "cell_type": "code",
   "execution_count": 3,
   "metadata": {},
   "outputs": [],
   "source": [
    "inference_obj = InferencePipeline()"
   ]
  },
  {
   "cell_type": "code",
   "execution_count": 4,
   "metadata": {},
   "outputs": [
    {
     "data": {
      "text/plain": [
       "'NOT-CHURN'"
      ]
     },
     "execution_count": 4,
     "metadata": {},
     "output_type": "execute_result"
    }
   ],
   "source": [
    "sample_json = {\n",
    "                \"Age\": 25,\n",
    "                \"FrequentFlyer\": \"No\",\n",
    "                \"AnnualIncomeClass\": \"Middle Income\",\n",
    "                \"ServicesOpted\": 6,\n",
    "                \"AccountSyncedToSocialMedia\": \"No\",\n",
    "                \"BookedHotelOrNot\": \"Yes\"\n",
    "                }\n",
    "\n",
    "inference_obj.predict(sample_json)"
   ]
  }
 ],
 "metadata": {
  "kernelspec": {
   "display_name": "freelance",
   "language": "python",
   "name": "python3"
  },
  "language_info": {
   "codemirror_mode": {
    "name": "ipython",
    "version": 3
   },
   "file_extension": ".py",
   "mimetype": "text/x-python",
   "name": "python",
   "nbconvert_exporter": "python",
   "pygments_lexer": "ipython3",
   "version": "3.10.14"
  }
 },
 "nbformat": 4,
 "nbformat_minor": 2
}
